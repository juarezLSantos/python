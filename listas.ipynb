{
 "cells": [
  {
   "cell_type": "code",
   "execution_count": null,
   "metadata": {},
   "outputs": [],
   "source": []
  },
  {
   "cell_type": "markdown",
   "metadata": {},
   "source": [
    "# Coleções\n",
    "\n",
    "## Listas\n",
    "\n",
    "\n"
   ]
  },
  {
   "cell_type": "code",
   "execution_count": 41,
   "metadata": {},
   "outputs": [
    {
     "name": "stdout",
     "output_type": "stream",
     "text": [
      "['banana', 'laranja', 'uva', 'pera', 'melancia']\n"
     ]
    }
   ],
   "source": [
    "frutas = ['banana','laranja','uva','pera','melancia']\n",
    "print(frutas)"
   ]
  },
  {
   "cell_type": "code",
   "execution_count": 42,
   "metadata": {},
   "outputs": [],
   "source": [
    "# Lista de inteiros\n",
    "números = [1,2,3,4,5]"
   ]
  },
  {
   "cell_type": "code",
   "execution_count": 43,
   "metadata": {},
   "outputs": [
    {
     "name": "stdout",
     "output_type": "stream",
     "text": [
      "[[1, 2, 3], [4, 5, 6], [7, 8, 9]]\n"
     ]
    }
   ],
   "source": [
    "# Lista de listas\n",
    "Listas = [[1,2,3,],[4,5,6],[7,8,9]]\n",
    "print(Listas)"
   ]
  },
  {
   "cell_type": "code",
   "execution_count": 44,
   "metadata": {},
   "outputs": [
    {
     "name": "stdout",
     "output_type": "stream",
     "text": [
      "[1, 'banana', 2, 5, True]\n"
     ]
    }
   ],
   "source": [
    "# Lista mista\n",
    "misturada = [1, \"banana\" , 2,5, True]\n",
    "print(misturada)"
   ]
  },
  {
   "cell_type": "code",
   "execution_count": 45,
   "metadata": {},
   "outputs": [
    {
     "name": "stdout",
     "output_type": "stream",
     "text": [
      "5\n"
     ]
    }
   ],
   "source": [
    "# Tamanho da lista \n",
    "print(len(frutas))"
   ]
  },
  {
   "cell_type": "code",
   "execution_count": 46,
   "metadata": {},
   "outputs": [
    {
     "name": "stdout",
     "output_type": "stream",
     "text": [
      "uva\n"
     ]
    }
   ],
   "source": [
    "# Acessando elementos da lista de trás para frente\n",
    "print(frutas[-3]) #melancia"
   ]
  },
  {
   "cell_type": "code",
   "execution_count": 47,
   "metadata": {},
   "outputs": [
    {
     "name": "stdout",
     "output_type": "stream",
     "text": [
      "['banana', 'laranja', 'uva']\n",
      "['banana', 'laranja']\n"
     ]
    }
   ],
   "source": [
    "# Acessando intervalos\n",
    "print(frutas[:3])\n",
    "print(frutas[:2])"
   ]
  },
  {
   "cell_type": "code",
   "execution_count": 48,
   "metadata": {},
   "outputs": [
    {
     "name": "stdout",
     "output_type": "stream",
     "text": [
      "['banana', 'laranja', 'uva', 'pera', 'melancia', 'abacaxi', 'jabuticaba']\n"
     ]
    }
   ],
   "source": [
    "# Adicionando elementos\n",
    "frutas.append('abacaxi')\n",
    "frutas.append('jabuticaba')\n",
    "print(frutas)"
   ]
  },
  {
   "cell_type": "code",
   "execution_count": 49,
   "metadata": {},
   "outputs": [
    {
     "name": "stdout",
     "output_type": "stream",
     "text": [
      "['banana', 'laranja', 'uva', 'jaca', 'melancia', 'abacaxi', 'jabuticaba']\n"
     ]
    }
   ],
   "source": [
    "# Substituindo elementos\n",
    "frutas[3] = 'jaca'\n",
    "print(frutas)"
   ]
  },
  {
   "cell_type": "code",
   "execution_count": 50,
   "metadata": {},
   "outputs": [
    {
     "name": "stdout",
     "output_type": "stream",
     "text": [
      "melancia removida\n"
     ]
    }
   ],
   "source": [
    "# Removendo elementos\n",
    "try:\n",
    "    frutas.remove('melancia') # remove a primeira ocorrência de elemento\n",
    "    print('melancia removida')\n",
    "except ValueError:\n",
    "    print('Elemento não encontrado')\n",
    "    print(frutas)"
   ]
  },
  {
   "cell_type": "code",
   "execution_count": 51,
   "metadata": {},
   "outputs": [
    {
     "name": "stdout",
     "output_type": "stream",
     "text": [
      "['banana', 'laranja', 'uva', 'jaca', 'abacaxi', 'jabuticaba', 'romã', 'caju', 'graviola']\n"
     ]
    }
   ],
   "source": [
    "# Estendendo listas com base em outras listas\n",
    "frutas2 = ['romã', 'caju','graviola']\n",
    "frutas.extend(frutas2) # adiciona os elementos de frutas2 em frutas\n",
    "print(frutas)"
   ]
  },
  {
   "cell_type": "code",
   "execution_count": 52,
   "metadata": {},
   "outputs": [
    {
     "name": "stdout",
     "output_type": "stream",
     "text": [
      "['banana', 'laranja', 'uva', 'jaca', 'abacaxi', 'jabuticaba', 'romã', 'caju', 'graviola', 'manga', 'goiaba', 'caqui']\n"
     ]
    }
   ],
   "source": [
    "# Extendendo listas com base em outros tipos iteráveis\n",
    "tupla = ('manga','goiaba','caqui') # tupla\n",
    "frutas.extend(tupla)\n",
    "print(frutas)"
   ]
  },
  {
   "cell_type": "code",
   "execution_count": 53,
   "metadata": {},
   "outputs": [
    {
     "name": "stdout",
     "output_type": "stream",
     "text": [
      "['banana', 'laranja', 'uva', 'jaca', 'abacaxi', 'jabuticaba', 'romã', 'caju', 'graviola', 'manga', 'goiaba']\n"
     ]
    }
   ],
   "source": [
    "# Removendo elementos do final da lista\n",
    "frutas.pop()\n",
    "print(frutas)"
   ]
  },
  {
   "cell_type": "code",
   "execution_count": 54,
   "metadata": {},
   "outputs": [
    {
     "name": "stdout",
     "output_type": "stream",
     "text": [
      "['banana', 'laranja', 'uva', 'jaca', 'jabuticaba', 'romã', 'caju', 'graviola', 'manga', 'goiaba']\n"
     ]
    }
   ],
   "source": [
    "# Removendo elementos de uma posição específica\n",
    "frutas.pop(4) # remove o elemento no índice 4\n",
    "print(frutas)"
   ]
  },
  {
   "cell_type": "code",
   "execution_count": 55,
   "metadata": {},
   "outputs": [
    {
     "name": "stdout",
     "output_type": "stream",
     "text": [
      "['banana', 'laranja', 'uva', 'jaca', 'romã', 'caju', 'graviola', 'manga', 'goiaba']\n"
     ]
    }
   ],
   "source": [
    "# Removendo elementos com a função del\n",
    "del frutas[4]\n",
    "print(frutas)"
   ]
  },
  {
   "cell_type": "code",
   "execution_count": 56,
   "metadata": {},
   "outputs": [
    {
     "name": "stdout",
     "output_type": "stream",
     "text": [
      "[]\n"
     ]
    }
   ],
   "source": [
    "# Removendo todos os elementos\n",
    "frutas.clear()\n",
    "print(frutas)"
   ]
  },
  {
   "cell_type": "code",
   "execution_count": 57,
   "metadata": {},
   "outputs": [],
   "source": [
    "# Nova lista\n",
    "legumes = ['cenoura,','beterraba','abóbora','batata']"
   ]
  },
  {
   "cell_type": "code",
   "execution_count": 58,
   "metadata": {},
   "outputs": [
    {
     "name": "stdout",
     "output_type": "stream",
     "text": [
      "cenoura,\n",
      "beterraba\n",
      "abóbora\n",
      "batata\n"
     ]
    }
   ],
   "source": [
    "# Iterando sobre listas\n",
    "for legume in legumes:\n",
    "    print(legume)"
   ]
  },
  {
   "cell_type": "code",
   "execution_count": 59,
   "metadata": {},
   "outputs": [
    {
     "name": "stdout",
     "output_type": "stream",
     "text": [
      "cenoura,\n",
      "beterraba\n",
      "abóbora\n",
      "batata\n"
     ]
    },
    {
     "data": {
      "text/plain": [
       "[None, None, None, None]"
      ]
     },
     "execution_count": 59,
     "metadata": {},
     "output_type": "execute_result"
    }
   ],
   "source": [
    "# Shorhand for\n",
    "[print(legume)for legume in legumes]"
   ]
  },
  {
   "cell_type": "code",
   "execution_count": 60,
   "metadata": {},
   "outputs": [
    {
     "name": "stdout",
     "output_type": "stream",
     "text": [
      "Números pares: [2, 4]\n",
      "Números ímpares: [1, 3, 5]\n"
     ]
    }
   ],
   "source": [
    "Números = [0, 1, 2, 3, 4, 5, 6, 7, 8, 9]\n",
    "pares = [número for número in números if número % 2 == 0]\n",
    "impares = [número for número in números if número % 2 != 0]\n",
    "\n",
    "# No JavaScript\n",
    "# const pares = números.filter(número => número % 2 === 0)\n",
    "\n",
    "# if (número % 2 === 0) {\n",
    "# pares.push(número)\n",
    "\n",
    "#}\n",
    "#}\n",
    "print(f'Números pares: {pares}')\n",
    "print(f'Números ímpares: {impares}')\n",
    "\n"
   ]
  },
  {
   "cell_type": "code",
   "execution_count": 61,
   "metadata": {},
   "outputs": [
    {
     "name": "stdout",
     "output_type": "stream",
     "text": [
      "['abóbora', 'batata', 'beterraba', 'cenoura,']\n"
     ]
    }
   ],
   "source": [
    "# Ordenando em ordem crescente (alfabética)\n",
    "legumes.sort()\n",
    "print(legumes)"
   ]
  },
  {
   "cell_type": "code",
   "execution_count": 62,
   "metadata": {},
   "outputs": [
    {
     "name": "stdout",
     "output_type": "stream",
     "text": [
      "['cenoura,', 'beterraba', 'batata', 'abóbora']\n"
     ]
    }
   ],
   "source": [
    "# Ordenando em ordem decrescente(alfabética)\n",
    "legumes.sort(reverse=True)\n",
    "print(legumes)"
   ]
  },
  {
   "cell_type": "code",
   "execution_count": 63,
   "metadata": {},
   "outputs": [
    {
     "name": "stdout",
     "output_type": "stream",
     "text": [
      "['cenoura,', 'beterraba', 'batata', 'abóbora']\n"
     ]
    }
   ],
   "source": [
    "sopa = legumes.copy()\n",
    "print(sopa)\n"
   ]
  },
  {
   "cell_type": "code",
   "execution_count": 64,
   "metadata": {},
   "outputs": [
    {
     "name": "stdout",
     "output_type": "stream",
     "text": [
      "['abóbora', 'batata', 'beterraba', 'cenoura,']\n",
      "['cenoura,', 'beterraba', 'batata', 'abóbora']\n"
     ]
    }
   ],
   "source": [
    "# Ordenando com a função global sorted()\n",
    "print(sorted(legumes))\n",
    "print(legumes)"
   ]
  },
  {
   "cell_type": "code",
   "execution_count": 65,
   "metadata": {},
   "outputs": [],
   "source": [
    "# Listas permitem elementos duplicados\n",
    "legumes.extend(['cenoura','beterraba','abóbora','batata','batata','batata'])"
   ]
  },
  {
   "cell_type": "code",
   "execution_count": 66,
   "metadata": {},
   "outputs": [
    {
     "name": "stdout",
     "output_type": "stream",
     "text": [
      "['cenoura,', 'beterraba', 'batata', 'abóbora', 'cenoura', 'beterraba', 'abóbora', 'batata', 'batata', 'batata']\n",
      "4\n",
      "2\n"
     ]
    }
   ],
   "source": [
    "# Contando a quantidade de ocorrências de um elemento (quantidade de cópias)\n",
    "print(legumes)\n",
    "print(legumes.count('batata'))\n",
    "print(legumes.count('beterraba'))"
   ]
  },
  {
   "cell_type": "code",
   "execution_count": null,
   "metadata": {},
   "outputs": [],
   "source": []
  }
 ],
 "metadata": {
  "kernelspec": {
   "display_name": "Python 3",
   "language": "python",
   "name": "python3"
  },
  "language_info": {
   "codemirror_mode": {
    "name": "ipython",
    "version": 3
   },
   "file_extension": ".py",
   "mimetype": "text/x-python",
   "name": "python",
   "nbconvert_exporter": "python",
   "pygments_lexer": "ipython3",
   "version": "3.12.0"
  }
 },
 "nbformat": 4,
 "nbformat_minor": 2
}
