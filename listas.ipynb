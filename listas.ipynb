
# Coleções

## Listas



frutas = ['banana','laranja','uva','pera','melancia']
print(frutas)
# Lista de inteiros
números = [1,2,3,4,5]
# Lista de listas
Listas = [[1,2,3,],[4,5,6],[7,8,9]]
print(Listas)
# Lista mista
misturada = [1, "banana" , 2,5, True]
print(misturada)
# Tamanho da lista 
print(len(frutas))
# Acessando elementos da lista de trás para frente
print(frutas[-3]) #melancia
# Acessando intervalos
print(frutas[:3])
print(frutas[:2])
# Adicionando elementos
frutas.append('abacaxi')
frutas.append('jabuticaba')
print(frutas)
# Substituindo elementos
frutas[3] = 'jaca'
print(frutas)
# Removendo elementos
try:
    frutas.remove('melancia') # remove a primeira ocorrência de elemento
    print('melancia removida')
except ValueError:
    print('Elemento não encontrado')
    print(frutas)
# Estendendo listas com base em outras listas
frutas2 = ['romã', 'caju','graviola']
frutas.extend(frutas2) # adiciona os elementos de frutas2 em frutas
print(frutas)
# Extendendo listas com base em outros tipos iteráveis
tupla = ('manga','goiaba','caqui') # tupla
frutas.extend(tupla)
print(frutas)
# Removendo elementos do final da lista
frutas.pop()
print(frutas)
# Removendo elementos de uma posição específica
frutas.pop(4) # remove o elemento no índice 4
print(frutas)
# Removendo elementos com a função del
del frutas[4]
print(frutas)
# Removendo todos os elementos
frutas.clear()
print(frutas)
# Nova lista
legumes = ['cenoura,','beterraba','abóbora','batata']
# Iterando sobre listas
for legume in legumes:
    print(legume)
# Shorhand for
[print(legume)for legume in legumes]
Números = [0, 1, 2, 3, 4, 5, 6, 7, 8, 9]
pares = [número for número in números if número % 2 == 0]
impares = [número for número in números if número % 2 != 0]

# No JavaScript
# const pares = números.filter(número => número % 2 === 0)

# if (número % 2 === 0) {
# pares.push(número)

#}
#}
print(f'Números pares: {pares}')
print(f'Números ímpares: {impares}')


# Ordenando em ordem crescente (alfabética)
legumes.sort()
print(legumes)
# Ordenando em ordem decrescente(alfabética)
legumes.sort(reverse=True)
print(legumes)
sopa = legumes.copy()
print(sopa)

# Ordenando com a função global sorted()
print(sorted(legumes))
print(legumes)
# Listas permitem elementos duplicados
legumes.extend(['cenoura','beterraba','abóbora','batata','batata','batata'])
# Contando a quantidade de ocorrências de um elemento (quantidade de cópias)
print(legumes)
print(legumes.count('batata'))
print(legumes.count('beterraba'))
